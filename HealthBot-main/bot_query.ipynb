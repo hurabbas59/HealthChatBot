{
 "cells": [
  {
   "cell_type": "code",
   "execution_count": 1,
   "metadata": {},
   "outputs": [],
   "source": [
    "from src.model.models import call_llm\n",
    "from src.semantic_router.prompts import user_intent_identifiction_template\n",
    "from langchain.prompts import PromptTemplate\n",
    "import json"
   ]
  },
  {
   "cell_type": "code",
   "execution_count": 2,
   "metadata": {},
   "outputs": [],
   "source": [
    "prompt = PromptTemplate(template=user_intent_identifiction_template,input_variables=['text'])"
   ]
  },
  {
   "cell_type": "code",
   "execution_count": 3,
   "metadata": {},
   "outputs": [
    {
     "name": "stderr",
     "output_type": "stream",
     "text": [
      "/Library/Frameworks/Python.framework/Versions/3.11/lib/python3.11/site-packages/langchain_core/_api/deprecation.py:117: LangChainDeprecationWarning: The class `langchain_community.chat_models.openai.ChatOpenAI` was deprecated in langchain-community 0.0.10 and will be removed in 0.2.0. An updated version of the class exists in the langchain-openai package and should be used instead. To use it run `pip install -U langchain-openai` and import as `from langchain_openai import ChatOpenAI`.\n",
      "  warn_deprecated(\n",
      "/Library/Frameworks/Python.framework/Versions/3.11/lib/python3.11/site-packages/langchain_core/_api/deprecation.py:117: LangChainDeprecationWarning: The function `run` was deprecated in LangChain 0.1.0 and will be removed in 0.2.0. Use invoke instead.\n",
      "  warn_deprecated(\n"
     ]
    }
   ],
   "source": [
    "response = json.loads(call_llm(input_dict={\"text\":\"i want to book doctor appointment for myself\"},prompt=prompt))"
   ]
  },
  {
   "cell_type": "code",
   "execution_count": 4,
   "metadata": {},
   "outputs": [
    {
     "data": {
      "text/plain": [
       "{'route_path': 'medical_assistance'}"
      ]
     },
     "execution_count": 4,
     "metadata": {},
     "output_type": "execute_result"
    }
   ],
   "source": [
    "response"
   ]
  },
  {
   "cell_type": "markdown",
   "metadata": {},
   "source": [
    "# Conversational"
   ]
  },
  {
   "cell_type": "code",
   "execution_count": 2,
   "metadata": {},
   "outputs": [
    {
     "name": "stderr",
     "output_type": "stream",
     "text": [
      "/Library/Frameworks/Python.framework/Versions/3.11/lib/python3.11/site-packages/langchain_core/_api/deprecation.py:117: LangChainDeprecationWarning: The class `langchain_community.chat_models.openai.ChatOpenAI` was deprecated in langchain-community 0.0.10 and will be removed in 0.2.0. An updated version of the class exists in the langchain-openai package and should be used instead. To use it run `pip install -U langchain-openai` and import as `from langchain_openai import ChatOpenAI`.\n",
      "  warn_deprecated(\n",
      "/Library/Frameworks/Python.framework/Versions/3.11/lib/python3.11/site-packages/langchain_core/_api/deprecation.py:117: LangChainDeprecationWarning: The function `run` was deprecated in LangChain 0.1.0 and will be removed in 0.2.0. Use invoke instead.\n",
      "  warn_deprecated(\n"
     ]
    }
   ],
   "source": [
    "from src.semantic_router.prompts import conversational_chat_template\n",
    "\n",
    "prompt = PromptTemplate(template=conversational_chat_template,input_variables=['text'])\n",
    "\n",
    "response = call_llm(input_dict={\"text\":\"Hello how are you?\"},prompt=prompt)"
   ]
  },
  {
   "cell_type": "code",
   "execution_count": 3,
   "metadata": {},
   "outputs": [
    {
     "data": {
      "text/plain": [
       "\"Hi I'm a Medical Assistance Chat Bot, I can help you to book your medical appointment.\""
      ]
     },
     "execution_count": 3,
     "metadata": {},
     "output_type": "execute_result"
    }
   ],
   "source": [
    "response"
   ]
  },
  {
   "cell_type": "markdown",
   "metadata": {},
   "source": [
    "# Medical Assistance"
   ]
  },
  {
   "cell_type": "code",
   "execution_count": 8,
   "metadata": {},
   "outputs": [
    {
     "data": {
      "text/plain": [
       "{'route_path': 'book_appointment'}"
      ]
     },
     "execution_count": 8,
     "metadata": {},
     "output_type": "execute_result"
    }
   ],
   "source": [
    "from src.semantic_router.prompts import medical_assistance_tempalte\n",
    "\n",
    "prompt = PromptTemplate(template=medical_assistance_tempalte,input_variables=['text'])\n",
    "\n",
    "response = json.loads(call_llm(input_dict={\"text\":\"I want to book an appointment\"},prompt=prompt))\n",
    "response"
   ]
  },
  {
   "cell_type": "code",
   "execution_count": 9,
   "metadata": {},
   "outputs": [
    {
     "data": {
      "text/plain": [
       "{'route_path': 'medical_scenerio'}"
      ]
     },
     "execution_count": 9,
     "metadata": {},
     "output_type": "execute_result"
    }
   ],
   "source": [
    "prompt = PromptTemplate(template=medical_assistance_tempalte,input_variables=['text'])\n",
    "\n",
    "response = json.loads(call_llm(input_dict={\"text\":\"What is ADHD\"},prompt=prompt))\n",
    "response"
   ]
  },
  {
   "cell_type": "markdown",
   "metadata": {},
   "source": [
    "# Other Medical Scenarios"
   ]
  },
  {
   "cell_type": "code",
   "execution_count": 13,
   "metadata": {},
   "outputs": [
    {
     "name": "stdout",
     "output_type": "stream",
     "text": [
      "ADHD, or Attention Deficit Hyperactivity Disorder, is a neurodevelopmental disorder characterized by difficulty in paying attention, impulsivity, and hyperactivity. It is commonly diagnosed in childhood and can persist into adulthood. \n",
      "I'm a Medical Assistance, do you want to book an appointment with our doctors?\n"
     ]
    }
   ],
   "source": [
    "from src.semantic_router.prompts import other_medical_scenerio_template\n",
    "\n",
    "prompt = PromptTemplate(template=other_medical_scenerio_template,input_variables=['text'])\n",
    "\n",
    "response = call_llm(input_dict={\"text\":\"What is ADHD\"},prompt=prompt)\n",
    "print(response)"
   ]
  },
  {
   "cell_type": "markdown",
   "metadata": {},
   "source": [
    "# Book Appointment"
   ]
  },
  {
   "cell_type": "code",
   "execution_count": 2,
   "metadata": {},
   "outputs": [
    {
     "name": "stderr",
     "output_type": "stream",
     "text": [
      "/Library/Frameworks/Python.framework/Versions/3.11/lib/python3.11/site-packages/pinecone/index.py:4: TqdmWarning: IProgress not found. Please update jupyter and ipywidgets. See https://ipywidgets.readthedocs.io/en/stable/user_install.html\n",
      "  from tqdm.autonotebook import tqdm\n"
     ]
    }
   ],
   "source": [
    "from src.utils.pinecone_utils import PineConeUtils\n",
    "\n",
    "pinecone_client = PineConeUtils()\n",
    "matches = pinecone_client.query_pinecone(index_name=\"test\",query=\"I want to book appointment for my heart problem\")"
   ]
  },
  {
   "cell_type": "code",
   "execution_count": null,
   "metadata": {},
   "outputs": [],
   "source": []
  },
  {
   "cell_type": "code",
   "execution_count": 4,
   "metadata": {},
   "outputs": [
    {
     "data": {
      "text/plain": [
       "[{'Contact': '800 444 444',\n",
       "  'Doctor': 'Dr. Allam Alkowatli',\n",
       "  'Specialty': 'Consultant Interventional Cardiologist'},\n",
       " {'Contact': '800 444 444',\n",
       "  'Doctor': 'Dr. Layal Abdallah',\n",
       "  'Specialty': 'Consultant Interventional Cardiologist'},\n",
       " {'Contact': '800 444 444',\n",
       "  'Doctor': 'Dr. Marc Takla',\n",
       "  'Specialty': 'Consultant Cardiologist'},\n",
       " {'Contact': '800 444 444',\n",
       "  'Doctor': 'Dr. Ahmed Elhelaly',\n",
       "  'Specialty': 'Consultant Cardiologist'},\n",
       " {'Contact': '800 444 444',\n",
       "  'Doctor': 'Dr. Fatemeh Nabavizadeh',\n",
       "  'Specialty': 'Consultant Cardiologist'},\n",
       " {'Contact': '800 444 444',\n",
       "  'Doctor': 'Dr. Sherif Mohamed Shaker',\n",
       "  'Specialty': 'Specialist Cardiologist'},\n",
       " {'Contact': '800 444 444',\n",
       "  'Doctor': 'Dr. Vahid Sepehri',\n",
       "  'Specialty': 'Specialist Cardiologist'},\n",
       " {'Contact': '800 444 444',\n",
       "  'Doctor': 'Dr. Seyed Hamed Reza',\n",
       "  'Specialty': 'Specialist Cardiologist'},\n",
       " {'Contact': '800 444 444',\n",
       "  'Doctor': 'Dr. Adel Abdallah Salama Wassef',\n",
       "  'Specialty': 'Specialist Cardiologist'},\n",
       " {'Contact': '800 444 444',\n",
       "  'Doctor': 'Dr. Seyed Mohammad Kasaei',\n",
       "  'Specialty': 'Specialist Cardiologist'}]"
      ]
     },
     "execution_count": 4,
     "metadata": {},
     "output_type": "execute_result"
    }
   ],
   "source": [
    "meta = []\n",
    "\n",
    "for doc in matches['matches']:\n",
    "    meta.append(doc['metadata'])\n",
    "    \n",
    "meta"
   ]
  },
  {
   "cell_type": "code",
   "execution_count": 5,
   "metadata": {},
   "outputs": [
    {
     "name": "stderr",
     "output_type": "stream",
     "text": [
      "/Library/Frameworks/Python.framework/Versions/3.11/lib/python3.11/site-packages/langchain_core/_api/deprecation.py:117: LangChainDeprecationWarning: The class `langchain_community.chat_models.openai.ChatOpenAI` was deprecated in langchain-community 0.0.10 and will be removed in 0.2.0. An updated version of the class exists in the langchain-openai package and should be used instead. To use it run `pip install -U langchain-openai` and import as `from langchain_openai import ChatOpenAI`.\n",
      "  warn_deprecated(\n",
      "/Library/Frameworks/Python.framework/Versions/3.11/lib/python3.11/site-packages/langchain_core/_api/deprecation.py:117: LangChainDeprecationWarning: The function `run` was deprecated in LangChain 0.1.0 and will be removed in 0.2.0. Use invoke instead.\n",
      "  warn_deprecated(\n",
      "huggingface/tokenizers: The current process just got forked, after parallelism has already been used. Disabling parallelism to avoid deadlocks...\n",
      "To disable this warning, you can either:\n",
      "\t- Avoid using `tokenizers` before the fork if possible\n",
      "\t- Explicitly set the environment variable TOKENIZERS_PARALLELISM=(true | false)\n"
     ]
    }
   ],
   "source": [
    "from src.semantic_router.prompts import book_appointment_template\n",
    "from langchain.prompts import PromptTemplate\n",
    "import json\n",
    "from src.model.models import call_llm\n",
    "\n",
    "prompt = PromptTemplate(template=book_appointment_template,input_variables=['text','doctors_list_speciality'])\n",
    "\n",
    "response = json.loads(call_llm(input_dict={\"text\":\"I want to book appointment for my heart problem\"\n",
    "                                           ,\"doctors_list_speciality\":meta},prompt=prompt))\n"
   ]
  },
  {
   "cell_type": "code",
   "execution_count": 6,
   "metadata": {},
   "outputs": [
    {
     "data": {
      "text/plain": [
       "{'doctor_name': ['Dr. Allam Alkowatli',\n",
       "  'Dr. Layal Abdallah',\n",
       "  'Dr. Marc Takla'],\n",
       " 'doctor_contact': ['800 444 444', '800 444 444', '800 444 444']}"
      ]
     },
     "execution_count": 6,
     "metadata": {},
     "output_type": "execute_result"
    }
   ],
   "source": [
    "response"
   ]
  },
  {
   "cell_type": "code",
   "execution_count": null,
   "metadata": {},
   "outputs": [],
   "source": []
  }
 ],
 "metadata": {
  "kernelspec": {
   "display_name": "Python 3",
   "language": "python",
   "name": "python3"
  },
  "language_info": {
   "codemirror_mode": {
    "name": "ipython",
    "version": 3
   },
   "file_extension": ".py",
   "mimetype": "text/x-python",
   "name": "python",
   "nbconvert_exporter": "python",
   "pygments_lexer": "ipython3",
   "version": "3.11.5"
  }
 },
 "nbformat": 4,
 "nbformat_minor": 2
}
