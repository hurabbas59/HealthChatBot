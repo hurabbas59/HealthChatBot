{
 "cells": [
  {
   "cell_type": "markdown",
   "id": "99632150-6963-486a-9f70-b6a60f78632d",
   "metadata": {},
   "source": [
    "steps \n",
    "define query variable:\n",
    "                    ex\" I want doc for this query\"\n",
    "convert query into embeddings:\n",
    "                    takes query as input , converts it into embeddings and save in a variable\n",
    "query from pinecone:\n",
    "                    takes the above created variable , and index.query from pinecone.\n",
    "\n",
    "                    \n",
    "\n"
   ]
  },
  {
   "cell_type": "code",
   "execution_count": 1,
   "id": "7c4f9414-57a4-4416-95a4-09538ae4a451",
   "metadata": {},
   "outputs": [
    {
     "name": "stderr",
     "output_type": "stream",
     "text": [
      "/Library/Frameworks/Python.framework/Versions/3.11/lib/python3.11/site-packages/tqdm/auto.py:21: TqdmWarning: IProgress not found. Please update jupyter and ipywidgets. See https://ipywidgets.readthedocs.io/en/stable/user_install.html\n",
      "  from .autonotebook import tqdm as notebook_tqdm\n"
     ]
    }
   ],
   "source": [
    "from transformers import AutoTokenizer, AutoModel\n",
    "import torch"
   ]
  },
  {
   "cell_type": "code",
   "execution_count": 2,
   "id": "10db9506-a06a-4a2e-a196-9facef24790c",
   "metadata": {},
   "outputs": [],
   "source": [
    "\n",
    "\n",
    "def converter(query):\n",
    "    model_name = \"sentence-transformers/all-MiniLM-L6-v2\"\n",
    "    tokenizer = AutoTokenizer.from_pretrained(model_name)\n",
    "    model = AutoModel.from_pretrained(model_name)\n",
    "    tokens = tokenizer(query, return_tensors=\"pt\")\n",
    "    with torch.no_grad():\n",
    "        output = model(**tokens)\n",
    "    embeddings = output.last_hidden_state.mean(dim=1)\n",
    "    output_vector = embeddings.squeeze().numpy()\n",
    "    output_list = output_vector.tolist()\n",
    "    return output_list\n",
    "\n",
    "\n",
    "\n",
    "    "
   ]
  },
  {
   "cell_type": "code",
   "execution_count": 3,
   "id": "fa41a85a-d048-40cc-8522-6030f64ccd6e",
   "metadata": {},
   "outputs": [
    {
     "name": "stdout",
     "output_type": "stream",
     "text": [
      "Output Vector: [-0.5382217168807983, 0.7417511343955994, -0.17613209784030914, 0.17558032274246216, 0.017327867448329926, 0.1372501254081726, 0.2377006560564041, 0.21601922810077667, 0.4816175699234009, 0.0714489221572876, 0.1241544634103775, 0.5442668795585632, -0.010066010057926178, 0.056285373866558075, -0.41167619824409485, 0.021151777356863022, -0.3129006326198578, 0.1021805927157402, -0.0532623715698719, 0.2229989916086197, -0.16136446595191956, 0.6421244144439697, 0.1423129439353943, -0.10941105335950851, -0.17586326599121094, 0.462616503238678, -0.4826347827911377, -0.2310185730457306, 0.21676422655582428, -0.349305659532547, 0.034366507083177567, 0.14342908561229706, 0.38538673520088196, 0.030109254643321037, 0.25756412744522095, 0.08523121476173401, 0.25962546467781067, -0.1722678244113922, 0.5151053071022034, 0.20172420144081116, -0.07014752179384232, -0.6430057287216187, -0.3149252235889435, 0.16133072972297668, 0.22705410420894623, 0.1416933536529541, -0.14579670131206512, 0.25670957565307617, -0.052134983241558075, 0.3626314401626587, -0.427689790725708, -0.2673289477825165, -0.46866893768310547, 0.035934917628765106, 0.020045869052410126, 0.044354282319545746, 0.2449956238269806, 0.14707987010478973, -0.19955822825431824, -0.45372748374938965, 0.11411965638399124, 0.06042066216468811, -0.7318395972251892, 0.1661231815814972, 0.39726394414901733, 0.34181660413742065, -0.08202046155929565, 0.32652124762535095, -0.39399173855781555, -0.23616155982017517, 0.1188604086637497, -0.014773890376091003, 0.4146362543106079, 0.44767624139785767, 0.2175201028585434, -0.5732008814811707, 0.025938132777810097, -0.18369731307029724, 0.1593431681394577, -0.5394611954689026, -0.14612844586372375, 0.13675911724567413, 0.20989950001239777, 0.03584817796945572, -0.11746764183044434, -0.20682445168495178, 0.1354605108499527, 0.018318206071853638, 0.05639566853642464, 0.06804215908050537, -0.1463964879512787, -0.504447340965271, 0.13452330231666565, -0.02910338155925274, -0.6796113848686218, 0.16587723791599274, 0.1699787974357605, -0.12710051238536835, 0.5975444316864014, 1.2193650007247925, 0.24376574158668518, 0.3353380858898163, 0.4578874111175537, -0.09284902364015579, -0.190710186958313, -0.20786169171333313, -0.28822022676467896, -0.17208144068717957, 0.14115582406520844, -0.37225010991096497, -0.1039464995265007, -0.27154067158699036, -1.23745858669281, 0.09182034432888031, -0.0870608314871788, -0.4704928398132324, 0.2774898409843445, -0.07257280498743057, 0.014467373490333557, 0.09406891465187073, -0.004059556871652603, -0.008146267384290695, -0.05104835703969002, -0.20004145801067352, -0.529198169708252, -0.2287265658378601, 0.26784712076187134, -3.700508232013585e-32, 0.34258347749710083, -0.23011060059070587, -0.3848687410354614, 0.7655287981033325, 0.33404916524887085, 0.18762898445129395, 0.11480913311243057, -0.22217832505702972, -0.5774850845336914, -0.1386936455965042, -0.14430910348892212, 0.2412545382976532, -0.23283416032791138, 0.36513805389404297, -0.1715337485074997, -0.27696728706359863, -0.4275490641593933, 0.2920631170272827, 0.1351165920495987, -0.19134515523910522, -0.19138981401920319, -0.10449402034282684, 0.33333975076675415, 0.07701986283063889, 0.14239667356014252, 0.20303398370742798, 0.06181289255619049, -0.5626028180122375, -0.19643303751945496, 0.07807189971208572, 0.2827732563018799, 0.10845936834812164, 0.14921541512012482, -0.45590338110923767, -0.0634724348783493, 0.6261057257652283, -0.29668837785720825, -0.44809839129447937, 0.3026188015937805, -0.09881764650344849, -0.165699765086174, -0.11374327540397644, 0.3648401200771332, -0.15809062123298645, -0.10492391884326935, 0.2891111969947815, -0.040650688111782074, 0.06140093505382538, 0.30272409319877625, 0.0016708760522305965, -0.10126349329948425, 0.0985598936676979, -0.3783877193927765, -0.16778427362442017, 0.19610586762428284, -0.018005136400461197, -0.23376256227493286, 0.4002508521080017, 0.21425507962703705, -0.1877252459526062, 0.3345378637313843, 0.7369453310966492, -0.41224008798599243, 0.0255051851272583, 0.11525855213403702, -0.014849099330604076, -0.4370129704475403, -0.12923917174339294, 0.4871678352355957, -0.537161648273468, -0.8446370363235474, -0.06588716804981232, 0.300722599029541, -0.6721706390380859, -0.01423654705286026, 0.16273896396160126, 0.19217988848686218, -0.4279608726501465, -0.6893810033798218, -0.03032524511218071, -0.6331499814987183, -0.3663947880268097, 0.394039511680603, 0.05798951908946037, 0.013825250789523125, 0.38235512375831604, 0.12236776947975159, -0.29971611499786377, 0.08474705368280411, -0.1168210506439209, -0.4704515337944031, 0.07037089765071869, -0.30763885378837585, -0.36514806747436523, 0.5818302035331726, 1.5747577661715947e-32, 0.14884784817695618, -0.4863026440143585, -0.4873640537261963, 0.8744263648986816, 0.2343614101409912, 0.3339996337890625, 0.263135701417923, 0.13907283544540405, -0.312335342168808, 0.061081528663635254, -0.195868581533432, -0.130581796169281, 0.39070481061935425, 0.051047902554273605, -0.10521199554204941, -0.2693633437156677, 0.34158802032470703, 0.03720977529883385, 0.09232025593519211, 0.34058356285095215, -0.6568801403045654, -0.2378033846616745, 0.43613046407699585, 0.21895933151245117, 0.24516591429710388, 0.2214718759059906, 0.36295604705810547, -0.6027234196662903, -0.5796386003494263, 0.011201015673577785, -0.26080161333084106, -0.24558837711811066, -0.34407487511634827, 0.4449408948421478, -0.16349616646766663, -0.39544788002967834, 0.4857686161994934, 0.1592341512441635, -0.08341124653816223, 0.31022441387176514, 0.31650733947753906, 0.2643820345401764, 0.34057408571243286, 0.35353055596351624, -0.35989922285079956, -0.25804418325424194, -0.4664638936519623, 0.3238062560558319, 0.25896281003952026, -0.08191777020692825, 0.22732758522033691, -0.04275253042578697, 0.09687981009483337, -0.6179291605949402, -0.532261073589325, -0.10721762478351593, -0.5853157043457031, -0.20143696665763855, 0.25983381271362305, 0.5120294690132141, 0.060173649340867996, 0.4757065773010254, -0.5756126642227173, 0.5656679272651672, -0.035812102258205414, -0.4146125018596649, -0.47847557067871094, -0.03288103640079498, -0.39089083671569824, 0.3678710460662842, 0.22589904069900513, -0.3371884524822235, 0.09060308337211609, -0.20931199193000793, 0.488103985786438, 0.1110115498304367, 0.18252168595790863, -0.16907493770122528, -0.1623513400554657, -0.21641477942466736, 0.7006852030754089, 0.1634669303894043, -0.4046236276626587, 0.2749622166156769, 0.45446500182151794, -0.35009509325027466, 0.05450746789574623, -0.131081223487854, -0.15248198807239532, -0.17971812188625336, -0.15210694074630737, 0.4444316029548645, 0.07893461734056473, 0.19641943275928497, -0.18446195125579834, -9.338700124317256e-08, -0.14747148752212524, 0.021797358989715576, 0.06569710373878479, -0.5674970746040344, 0.13010451197624207, 0.3154313564300537, 0.41526034474372864, -0.1013268306851387, -0.28299981355667114, -0.4350776672363281, 0.3356773555278778, -0.32954326272010803, -0.01981443166732788, -0.17156174778938293, 0.10475274920463562, -0.09771613031625748, 0.05741405487060547, -0.3316599130630493, -0.41088569164276123, -0.12514252960681915, 0.13540562987327576, -0.210099458694458, 0.4217287600040436, -0.0027399174869060516, 0.05229132995009422, 0.37624669075012207, 0.0942612737417221, 0.332505464553833, -0.10985803604125977, -0.17002439498901367, 0.08423790335655212, 0.5762421488761902, 0.1910494714975357, -0.09745074808597565, 0.7866305112838745, 0.3314976096153259, 0.45909127593040466, -0.12339883297681808, -0.15245530009269714, -0.14850488305091858, -0.00356239452958107, -0.050747111439704895, -0.13034562766551971, 0.09054063260555267, 0.4995194375514984, -0.13840217888355255, 0.05415046215057373, -0.40027374029159546, -0.05376017838716507, -0.12027646601200104, 0.08335047215223312, -0.6104608178138733, 0.796044111251831, 0.21202796697616577, -0.49332672357559204, -0.007519641891121864, 0.4787719249725342, 0.15111561119556427, -0.18458759784698486, -0.026738345623016357, 0.3164624571800232, 0.43996086716651917, 0.3752945065498352, 0.28671762347221375]\n"
     ]
    }
   ],
   "source": [
    "query = input(\"Enter your Query: \")\n",
    "output_vector = converter(query)\n",
    "print(\"Output Vector:\", output_vector)"
   ]
  },
  {
   "cell_type": "code",
   "execution_count": 25,
   "id": "447013b1-56cf-4c26-93ec-923affbc5389",
   "metadata": {},
   "outputs": [
    {
     "data": {
      "text/plain": [
       "list"
      ]
     },
     "execution_count": 25,
     "metadata": {},
     "output_type": "execute_result"
    }
   ],
   "source": [
    "type(output_vector)"
   ]
  },
  {
   "cell_type": "code",
   "execution_count": 4,
   "id": "0e41d684-15c8-4549-9f53-d98f00d79c6c",
   "metadata": {},
   "outputs": [],
   "source": [
    "import pinecone\n",
    "\n",
    "pinecone.init( \n",
    "    api_key='',      \n",
    "    environment='gcp-starter'      \n",
    ")      \n",
    "index = pinecone.Index('test')\n",
    "\n",
    "query_response = index.query(\n",
    "    namespace='test-namespace',\n",
    "    top_k=10,\n",
    "    include_metadata=True,\n",
    "    vector=output_vector\n",
    "    \n",
    ")"
   ]
  },
  {
   "cell_type": "code",
   "execution_count": 5,
   "id": "5282166d",
   "metadata": {},
   "outputs": [
    {
     "data": {
      "text/plain": [
       "{'matches': [{'id': '4551aa99-8a79-4136-bfd4-c76e10058531',\n",
       "              'metadata': {'Contact': '052 800 2000',\n",
       "                           'Doctor': 'Marco Raber Dr.',\n",
       "                           'Specialty': 'Urology'},\n",
       "              'score': 0.290888309,\n",
       "              'values': []},\n",
       "             {'id': '16265ac8-32f5-4689-8b9d-2bbfdd1aa63f',\n",
       "              'metadata': {'Contact': '052 800 2000',\n",
       "                           'Doctor': 'Mohammad Ahmad Subeh Dr.',\n",
       "                           'Specialty': 'Urology'},\n",
       "              'score': 0.290888309,\n",
       "              'values': []},\n",
       "             {'id': 'b156efd5-65e7-4ffe-93a5-e94c11254402',\n",
       "              'metadata': {'Contact': '052 800 2000',\n",
       "                           'Doctor': 'Moufid Souleiman Arabi',\n",
       "                           'Specialty': 'Urology'},\n",
       "              'score': 0.290888309,\n",
       "              'values': []},\n",
       "             {'id': '256bfa29-1e54-4813-8f7a-75def71b7d9e',\n",
       "              'metadata': {'Contact': '052 800 2000',\n",
       "                           'Doctor': 'Mazen El-Shanti Dr.',\n",
       "                           'Specialty': 'Urology'},\n",
       "              'score': 0.290888309,\n",
       "              'values': []},\n",
       "             {'id': '8cfbd58c-a135-4a2a-907a-d8419b24f10c',\n",
       "              'metadata': {'Contact': '052 800 2000',\n",
       "                           'Doctor': 'Mohammad Mostafa Al Gogazeh Dr.',\n",
       "                           'Specialty': 'Urology'},\n",
       "              'score': 0.290888309,\n",
       "              'values': []},\n",
       "             {'id': '16c1c1a4-20bd-4b4c-8a48-cde3f3ccc857',\n",
       "              'metadata': {'Contact': '052 800 2000',\n",
       "                           'Doctor': 'Mahmoud Alnesr Dr.',\n",
       "                           'Specialty': 'Urology'},\n",
       "              'score': 0.290888309,\n",
       "              'values': []},\n",
       "             {'id': '88443fe6-1760-477d-9397-23ae7176d1f1',\n",
       "              'metadata': {'Contact': '052 800 2000',\n",
       "                           'Doctor': 'Mohamed Elkhouly Dr.',\n",
       "                           'Specialty': 'Urology'},\n",
       "              'score': 0.290888309,\n",
       "              'values': []},\n",
       "             {'id': '429eb49b-e224-4afb-982b-7ca444b8175d',\n",
       "              'metadata': {'Contact': '052 800 2000',\n",
       "                           'Doctor': 'Mudhar Hasan Dr. د. مضر حسن',\n",
       "                           'Specialty': 'Urology'},\n",
       "              'score': 0.290888309,\n",
       "              'values': []},\n",
       "             {'id': '9fd7a94e-db4e-4991-8284-33255e55333d',\n",
       "              'metadata': {'Contact': '052 800 2000',\n",
       "                           'Doctor': 'Mahesh Dhanjee Dr.',\n",
       "                           'Specialty': 'Urology'},\n",
       "              'score': 0.290888309,\n",
       "              'values': []},\n",
       "             {'id': '1994d01b-405c-4473-983f-337eedc9eff7',\n",
       "              'metadata': {'Contact': '052 800 2000',\n",
       "                           'Doctor': 'Mohamed Ali Alom Dr.',\n",
       "                           'Specialty': 'Urology'},\n",
       "              'score': 0.290888309,\n",
       "              'values': []}],\n",
       " 'namespace': 'test-namespace'}"
      ]
     },
     "execution_count": 5,
     "metadata": {},
     "output_type": "execute_result"
    }
   ],
   "source": [
    "query_response"
   ]
  },
  {
   "cell_type": "code",
   "execution_count": 12,
   "id": "8e815959-614a-4354-9e95-39beb0226db1",
   "metadata": {},
   "outputs": [],
   "source": [
    "a=[-0.00659675151, 0.370209694, 0.152380764, 0.149906754, 0.0924687684, -0.298791945, 0.673277259, 0.722084045, 0.321251363, 0.0168764144, -0.532057822, 0.119358078, 0.134858757, 0.399615854, -0.675683439, -0.547428548, -0.0907461792, -0.322852701, -0.432661027, -0.121966615, -0.359248579, 0.796320915, -0.00833420455, -0.0706732869, -0.124219984, 0.276324034, 0.225449771, -0.0316355526, -0.219143972, -0.448556185, 0.577155471, -0.00543618202, 0.635124, -0.294583648, 0.0410942473, 0.689972162, 0.264592826, 0.439947784, -0.109150149, 0.712484777, -0.180970371, -0.311909229, 0.0704476386, 0.00974477828, 0.157497197, -0.0166474525, -0.0110046342, -0.141595, 0.634124458, 0.155291751, 0.599060178, -0.179547399, -0.576694489, 0.203062028, 0.0290956274, -0.329035223, -0.280948341, -0.188634634, -0.744610786, -0.364807367, -0.302061617, 0.233981624, 0.370595425, 0.0728860199, -0.0940413177, -0.153707922, 0.11486949, -0.0199842602, 0.456148446, -0.498059511, -0.0704290196, -0.389802277, 0.389844358, 0.626749575, 0.0676733404, -0.209715351, 0.94087708, -0.3595213, 0.418812811, 0.113036498, 0.539793789, -0.582706273, -0.417370379, 0.031309586, 0.172211766, 0.25651741, -0.0626802, 0.513271153, -0.148391902, -0.0848846212, 0.223995298, -0.458838046, 0.878293753, 0.219401836, 0.486311018, -0.0584941693, -0.133638695, -0.719284177, -0.805505633, 0.877719879, 0.0589505918, -0.111608468, -0.224782646, 0.23937276, 0.218656868, -0.594922423, -0.152552798, -0.646511316, 0.106981412, -0.364975035, 0.0252144, 0.206399143, 0.203552395, -0.156741425, -0.0302078091, 0.0251434, -0.21817258, 0.168900013, 0.042334348, 0.804719567, -0.357073784, -0.196202, -0.65037632, -0.266143262, 0.434235781, -0.0431617126, 0.293161035, -1.85004238e-32, 0.430719882, 0.054431051, 0.149099186, 0.190120399, -0.0180434901, 0.368962228, -0.223650888, -0.507146716, 0.707354546, -0.356041044, -0.287236363, 0.290770173, 0.536194146, 0.118219979, -0.11449492, 0.133687824, -0.387808681, 0.657883048, -0.25293234, -0.140256122, -0.627359331, -0.0382479578, -0.501210034, 0.356688499, 0.0350564718, 0.314994425, -0.116889372, -0.114597313, 1.3845197, -0.094399564, -0.307559788, 0.350441813, -0.270168722, -0.097554177, -0.501445413, 0.206334069, -0.346396208, -0.0516580939, 0.215696737, -0.367265493, -0.288655847, 0.411991298, 0.250619471, 0.381233454, 0.410933614, -0.132835507, -0.363172114, 0.0992322415, 0.0255326256, -0.506000817, -0.393193901, -0.391087532, 0.0414991304, -0.341536403, -0.318348, 0.1261926, 0.449837625, 0.390892029, 0.419453, 0.15883112, 0.571123362, 0.827124298, -0.0113010108, 0.142175734, 0.39133063, -0.280950218, 0.0542620718, -0.695121706, 0.673751831, -0.0404021814, -0.525038838, 0.0974362642, 0.405695915, 0.290656507, -0.61986208, 0.185807258, 0.135557503, -0.185356766, -0.353477, -0.204962403, -0.118339434, -0.391243696, 0.266943097, 0.934231877, 0.426695913, -0.13530156, -0.701007903, 0.230861425, -0.682621539, 0.132876679, -0.972893, 0.143905938, 0.00247335713, 0.263281047, 0.0589520372, 1.23431227e-32, 0.494490206, -0.190878019, -0.529957592, 0.432751179, 0.743239701, -0.192182779, 0.263924897, 0.192991361, 0.0457263105, 0.547226787, -0.263934493, -0.396969825, 0.255745232, 0.0728668869, 0.28316614, -0.256717533, -0.0882553458, -0.0288105719, -0.55464834, 0.603381276, -0.0569127798, -0.219152018, -0.226852328, -0.112740755, -0.125933111, 0.680092871, 0.0165230222, -0.227088585, -0.763311863, -0.549706578, -0.161835656, -0.164606124, -0.0311911628, 0.0202513337, -0.540453911, 0.711300075, 0.135238722, -0.378143102, -0.694511533, -0.444738388, 0.548700631, 0.0479356311, 0.283541113, 1.06903672, 0.205130368, 0.0156347081, 0.133996129, 0.200091958, -0.142236605, -0.0659772307, -0.534147, -0.541755319, 0.0434428863, 0.229383662, 0.275063485, -0.416132331, -0.56776619, -0.739280105, -0.601195335, -0.309645236, 0.526874423, 0.136657089, -0.335310161, 0.594554722, -0.621379852, 0.0436530039, -0.0993818566, -0.570540965, -0.259184211, -0.214603573, 0.836360931, 0.303112507, -0.202763841, 0.0691311955, 0.064350456, 0.0440397561, -0.397735238, -0.151441976, 0.09157148, -0.32344678, -0.127032936, -0.612533331, -0.521978796, 1.03432417, -0.401155114, -0.0915477872, 0.84578383, -0.00378513336, 0.103065208, -0.216996282, -0.12364389, 0.353875428, -0.0977558941, 0.213971868, 0.0601137541, -9.22370731e-8, -0.144385621, -0.18287456, 0.0903231651, -0.298004299, -0.317104906, -0.69077307, -0.126339734, 0.162817657, -0.142065674, 0.205855727, -0.0980122834, 0.400214911, 0.318410456, 0.324268728, 0.625542343, -0.0580138266, 0.405449361, 0.0848784596, -0.237043604, -0.0135393292, -0.319306672, -0.075040862, 0.501170695, -0.172428146, 0.655617654, 0.294882178, -0.0465366691, 0.14434047, 0.0225627795, 0.358498931, -0.296709746, -0.0401964188, 0.127867624, 0.0304217786, -0.210423291, 0.0215538964, 0.811055183, -0.473130107, -0.0717413351, -0.381385684, -0.0834673494, -0.303213, 0.220307618, -0.127199039, 0.012173973, -0.580046654, 0.350981, 0.22238113, 0.100164697, -0.683790088, 0.185792774, -0.438666821, 0.380736649, -0.306027412, -0.12041752, 0.15985319, -0.296533883, -0.562145829, -0.123278022, 0.376716912, 0.609961867, 0.336844623, -0.212776601, -0.0986523852]"
   ]
  },
  {
   "cell_type": "code",
   "execution_count": null,
   "id": "d2b6f217-57b0-4b8f-8345-7b369cd5b8f2",
   "metadata": {},
   "outputs": [],
   "source": [
    "def query_pinecone(query):\n",
    "    \n",
    "    \n",
    "    pinecone.init( \n",
    "        api_key='',      \n",
    "        environment='gcp-starter'      \n",
    "    )      \n",
    "    index = pinecone.Index('test')\n",
    "    \n",
    "    query_response = index.query(\n",
    "        namespace='test-namespace',\n",
    "        top_k=10,\n",
    "        include_metadata=True,\n",
    "        vector=\n",
    "        \n",
    "    )\n"
   ]
  },
  {
   "cell_type": "code",
   "execution_count": 1,
   "id": "609b439f-ba62-4e0f-82c5-382d243d20d0",
   "metadata": {},
   "outputs": [],
   "source": [
    "from src.model.models import  call_llm"
   ]
  },
  {
   "cell_type": "code",
   "execution_count": 2,
   "id": "e0e728df",
   "metadata": {},
   "outputs": [],
   "source": [
    "from langchain.chat_models import ChatOpenAI\n",
    "from langchain.prompts import PromptTemplate"
   ]
  },
  {
   "cell_type": "code",
   "execution_count": 3,
   "id": "73cf4cb7",
   "metadata": {},
   "outputs": [],
   "source": [
    "prompt = PromptTemplate(template=\"Write article about {topic}\",input_variables=['topic'])\n"
   ]
  },
  {
   "cell_type": "code",
   "execution_count": 4,
   "id": "c3d4ab3c",
   "metadata": {},
   "outputs": [
    {
     "data": {
      "text/plain": [
       "'Capitalism: The Engine of Economic Growth and Prosperity\\n\\nCapitalism, often referred to as the free market system, is an economic ideology that has shaped the modern world. It is based on the principles of private ownership, free trade, and competition. Under capitalism, individuals and businesses are free to pursue their own economic interests, leading to a dynamic and innovative society. While it has its critics, capitalism has proven to be the most effective system for generating wealth, promoting innovation, and improving living standards.\\n\\nOne of the key features of capitalism is private ownership. In a capitalist society, individuals have the right to own property, including land, businesses, and other assets. This ownership gives individuals the incentive to invest, innovate, and take risks. When people have a stake in their own success, they are motivated to work hard and create value. This drive for personal gain fuels economic growth and leads to the creation of jobs and opportunities.\\n\\nAnother fundamental aspect of capitalism is free trade. Capitalist economies encourage the exchange of goods and services through voluntary transactions. This allows individuals and businesses to specialize in what they do best and trade with others who have different skills and resources. Free trade promotes efficiency and productivity, as it enables countries to focus on producing goods and services in which they have a comparative advantage. This specialization leads to higher quality products at lower prices, benefiting consumers and driving economic growth.\\n\\nCompetition is a vital component of capitalism. In a free market, businesses must compete with one another to attract customers and generate profits. This competition encourages efficiency, innovation, and continuous improvement. Companies strive to offer better products, lower prices, and superior customer service to gain a competitive edge. This constant drive for improvement benefits consumers, as they have access to a wide range of choices and can enjoy the benefits of technological advancements and innovation.\\n\\nCapitalism has been instrumental in lifting billions of people out of poverty and improving living standards around the world. By providing individuals with the opportunity to create wealth, capitalism has created jobs, increased incomes, and reduced poverty rates. Countries that have embraced capitalism have experienced significant economic growth and development. For example, the rapid economic transformation of countries like China and India in recent decades can be attributed to their adoption of capitalist principles.\\n\\nCritics of capitalism argue that it leads to income inequality and exploitation. While it is true that capitalism can result in unequal distribution of wealth, it also provides opportunities for social mobility. In a capitalist society, individuals have the ability to improve their economic situation through hard work, education, and entrepreneurship. Moreover, capitalism has proven to be the most effective system for reducing poverty and improving living standards, as evidenced by the historical success of capitalist economies.\\n\\nIn conclusion, capitalism is an economic system that has proven to be the most effective in generating wealth, promoting innovation, and improving living standards. Its principles of private ownership, free trade, and competition have created a dynamic and prosperous society. While it has its flaws, capitalism has been instrumental in lifting billions of people out of poverty and driving economic growth. As we navigate the challenges of the modern world, it is important to recognize the benefits of capitalism and continue to foster an environment that encourages entrepreneurship, innovation, and economic freedom.'"
      ]
     },
     "execution_count": 4,
     "metadata": {},
     "output_type": "execute_result"
    }
   ],
   "source": [
    "call_llm(input_dict={\"topic\":\"Capatalism\"},prompt=prompt)"
   ]
  },
  {
   "cell_type": "code",
   "execution_count": null,
   "id": "662b129e",
   "metadata": {},
   "outputs": [],
   "source": []
  }
 ],
 "metadata": {
  "kernelspec": {
   "display_name": "Python 3 (ipykernel)",
   "language": "python",
   "name": "python3"
  },
  "language_info": {
   "codemirror_mode": {
    "name": "ipython",
    "version": 3
   },
   "file_extension": ".py",
   "mimetype": "text/x-python",
   "name": "python",
   "nbconvert_exporter": "python",
   "pygments_lexer": "ipython3",
   "version": "3.12.4"
  }
 },
 "nbformat": 4,
 "nbformat_minor": 5
}
